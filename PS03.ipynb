{
  "cells": [
    {
      "cell_type": "markdown",
      "metadata": {
        "id": "TH-lYYjqHwK6"
      },
      "source": [
        "Diego Toribio <br>\n",
        "Professor Fred Fontaine <br>\n",
        "EID-378 Finance <br>\n",
        "Problem Set III: MPT and Risk<br>"
      ]
    },
    {
      "cell_type": "code",
      "execution_count": 2,
      "metadata": {
        "execution": {
          "iopub.execute_input": "2025-03-08T20:27:26.622048Z",
          "iopub.status.busy": "2025-03-08T20:27:26.621706Z",
          "iopub.status.idle": "2025-03-08T20:27:31.584165Z",
          "shell.execute_reply": "2025-03-08T20:27:31.582547Z",
          "shell.execute_reply.started": "2025-03-08T20:27:26.622025Z"
        },
        "id": "NZyBwNjSHwK-",
        "trusted": true
      },
      "outputs": [],
      "source": [
        "!pip install yfinance --quiet"
      ]
    },
    {
      "cell_type": "code",
      "execution_count": 3,
      "metadata": {
        "id": "EfDrEcVoKJ4L"
      },
      "outputs": [],
      "source": [
        "import yfinance as yf\n",
        "import pandas as pd\n",
        "from tabulate import tabulate\n",
        "import numpy as np\n",
        "import matplotlib.pyplot as plt\n",
        "\n",
        "np.random.seed(42)"
      ]
    },
    {
      "cell_type": "markdown",
      "metadata": {
        "id": "Si79LMLnHwLA"
      },
      "source": [
        "In this assignment, you will be exploring:\n",
        "\n",
        "- Modern Portfolio Theory, including concepts such as the \\( \\beta \\) and Sharpe ratio.\n",
        "- V@R and CV@R risk measures, including their application to portfolio optimization (as an alternative to MPT)."
      ]
    },
    {
      "cell_type": "markdown",
      "metadata": {
        "id": "VQlHzWWCHwLA"
      },
      "source": [
        "## Section 1 - Preparing the Data\n",
        "\n",
        "1. Select **M = 5** stocks, and get the daily adjusted closing price over one year for them.\n",
        "\n",
        "2. Also get the S&P 500 index (daily) over the same year.\n",
        "\n",
        "3. We also want to determine a risk-free return to use for our portfolio models, based on 3-Month Treasury Bills. This will be explained separately.\n",
        "\n",
        "4. Compute the daily returns of the stocks and S&P 500 over the year. In order to have a return for each trading day, you should also grab the last trading day of the previous year. For example, for 2014, you should also grab Dec. 31, 2013, in order to compute the return for the first trading day (Jan. 2) of 2014. This idea is called 'pre-windowing.' It is fine if you determine the last trading day of the previous year \"manually\" (i.e., rather than writing systematic code that would \"always\" work).\n",
        "\n",
        "5. Subtract off the daily risk-free return from the daily returns of the stocks and S&P 500. Going forward, we are going to be working with these excess returns only (I will omit using the word \"excess\" but keep in mind, everything is excess!). For example, if we think in terms of the Markowitz bullet in the $ (\\sigma, \\mu) $ plane, the 'risk-free' point in the graph will actually be the origin (0,0). More generally, going forward in the analysis, you can link what is happening here back to the \"theory\" discussed in the lecture notes by acting as if the risk-free return is 0!\n"
      ]
    },
    {
      "cell_type": "markdown",
      "metadata": {
        "id": "HxXZj6r_HwLB"
      },
      "source": [
        "#### 1.1 – Adjusted Close Data Retrieval  \n",
        "We include the last trading day of the prior year so that our first return can be computed on the first trading day of the target year. Here we download auto‑adjusted close prices for our $M=5$ stocks.\n"
      ]
    },
    {
      "cell_type": "code",
      "execution_count": 4,
      "metadata": {
        "_cell_guid": "b1076dfc-b9ad-4769-8c92-a6c4dae69d19",
        "_uuid": "8f2839f25d086af736a60e9eeb907d3b93b6e0e5",
        "colab": {
          "base_uri": "https://localhost:8080/"
        },
        "execution": {
          "iopub.execute_input": "2025-03-08T20:19:39.323779Z",
          "iopub.status.busy": "2025-03-08T20:19:39.323335Z",
          "iopub.status.idle": "2025-03-08T20:19:39.367212Z",
          "shell.execute_reply": "2025-03-08T20:19:39.366085Z",
          "shell.execute_reply.started": "2025-03-08T20:19:39.323741Z"
        },
        "id": "BJcXblseHwLC",
        "outputId": "935ec79a-9c06-437c-8197-970a31700198",
        "trusted": true
      },
      "outputs": [
        {
          "name": "stdout",
          "output_type": "stream",
          "text": [
            "\n",
            "\u001b[1mTable 1\u001b[0m. Adjusted Close Prices for Selected Stocks (first five rows)\n",
            "+------------+--------+--------+--------+--------+--------+\n",
            "|    Date    |  AAPL  |  AMZN  |  GOOG  |  MSFT  |  TSLA  |\n",
            "+------------+--------+--------+--------+--------+--------+\n",
            "| 2021-12-31 | 174.52 | 166.72 | 144.00 | 327.16 | 352.26 |\n",
            "| 2022-01-03 | 178.88 | 170.40 | 144.39 | 325.63 | 399.93 |\n",
            "| 2022-01-04 | 176.61 | 167.52 | 143.74 | 320.05 | 383.20 |\n",
            "| 2022-01-05 | 171.91 | 164.36 | 137.00 | 307.77 | 362.71 |\n",
            "| 2022-01-06 | 169.04 | 163.25 | 136.90 | 305.33 | 354.90 |\n",
            "+------------+--------+--------+--------+--------+--------+\n"
          ]
        }
      ],
      "source": [
        "# download adjusted close prices\n",
        "start_date = \"2021-12-31\"\n",
        "end_date = \"2022-12-31\"\n",
        "tickers = [\"AAPL\", \"MSFT\", \"GOOG\", \"AMZN\", \"TSLA\"]\n",
        "stock_data = yf.download(\n",
        "    tickers, start=start_date, end=end_date, progress=False, auto_adjust=True\n",
        ")[\"Close\"]\n",
        "\n",
        "# prepare first five rows for display\n",
        "df_head = stock_data.head()\n",
        "rows = [\n",
        "    [date.strftime(\"%Y-%m-%d\")] + [f\"{v:.2f}\" for v in row]\n",
        "    for date, row in df_head.iterrows()\n",
        "]\n",
        "\n",
        "print(\n",
        "    \"\\n\\033[1mTable 1\\033[0m. Adjusted Close Prices for Selected Stocks (first five rows)\"\n",
        ")\n",
        "print(tabulate(rows, headers=[\"Date\"] + list(df_head.columns), tablefmt=\"pretty\"))"
      ]
    },
    {
      "cell_type": "markdown",
      "metadata": {
        "id": "ehHEr5sHHwLF"
      },
      "source": [
        "#### 1.2 – S&P 500 Benchmark Retrieval  \n",
        "Using the same date range (with pre‑window), we pull the S&P 500 adjusted close series and tabulate its first five observations."
      ]
    },
    {
      "cell_type": "code",
      "execution_count": 5,
      "metadata": {
        "colab": {
          "base_uri": "https://localhost:8080/"
        },
        "execution": {
          "iopub.execute_input": "2025-03-08T20:02:22.491329Z",
          "iopub.status.busy": "2025-03-08T20:02:22.490950Z",
          "iopub.status.idle": "2025-03-08T20:02:22.508710Z",
          "shell.execute_reply": "2025-03-08T20:02:22.507431Z",
          "shell.execute_reply.started": "2025-03-08T20:02:22.491296Z"
        },
        "id": "WXZH0MWzHwLF",
        "outputId": "8bb576be-45b5-424d-be2f-2ce0d9e4f5ae",
        "trusted": true
      },
      "outputs": [
        {
          "name": "stdout",
          "output_type": "stream",
          "text": [
            "\n",
            "\u001b[1mTable 2\u001b[0m. S&P 500 Adj Close (first five rows, 2 dp).\n",
            "+------------+-----------+\n",
            "|    Date    | Adj Close |\n",
            "+------------+-----------+\n",
            "| 2021-12-31 |  4766.18  |\n",
            "| 2022-01-03 |  4796.56  |\n",
            "| 2022-01-04 |  4793.54  |\n",
            "| 2022-01-05 |  4700.58  |\n",
            "| 2022-01-06 |  4696.05  |\n",
            "+------------+-----------+\n"
          ]
        }
      ],
      "source": [
        "# download S&P 500 “Adj Close” over the same date range\n",
        "sp500 = yf.download(\n",
        "    \"^GSPC\", start=start_date, end=end_date, progress=False, auto_adjust=False\n",
        ")[\"Adj Close\"]\n",
        "\n",
        "# prepare first five rows, round prices to 2 decimals\n",
        "df_sp500 = sp500.head().reset_index()\n",
        "df_sp500.columns = [\"Date\", \"Adj Close\"]\n",
        "rows = [\n",
        "    [row[\"Date\"].strftime(\"%Y-%m-%d\"), f\"{row['Adj Close']:.2f}\"]\n",
        "    for _, row in df_sp500.iterrows()\n",
        "]\n",
        "\n",
        "print(\"\\n\\033[1mTable 2\\033[0m. S&P 500 Adj Close (first five rows, 2 dp).\")\n",
        "print(tabulate(rows, headers=[\"Date\", \"Adj Close\"], tablefmt=\"pretty\"))"
      ]
    },
    {
      "cell_type": "markdown",
      "metadata": {
        "id": "48mxXAcQHwLF"
      },
      "source": [
        "### 1.3 – Per‑Day Risk‑Free Rate\n",
        "\n",
        "Assuming an annual T‑Bill yield of $2\\%$, we convert it to a per‑trading‑day rate by  \n",
        "\n",
        "$$\n",
        "r_{\\text{daily}} = (1 + r_{\\text{ann}})^{1/252} - 1,\n",
        "$$\n",
        "\n",
        "and broadcast this constant across our date index to serve as the baseline for excess‑return computations."
      ]
    },
    {
      "cell_type": "code",
      "execution_count": 6,
      "metadata": {
        "colab": {
          "base_uri": "https://localhost:8080/"
        },
        "execution": {
          "iopub.execute_input": "2025-03-08T20:03:03.613121Z",
          "iopub.status.busy": "2025-03-08T20:03:03.612780Z",
          "iopub.status.idle": "2025-03-08T20:03:03.621020Z",
          "shell.execute_reply": "2025-03-08T20:03:03.619865Z",
          "shell.execute_reply.started": "2025-03-08T20:03:03.613096Z"
        },
        "id": "JLxkeuLGHwLG",
        "outputId": "bc49e1c3-e7e8-443c-ab5d-ab0e5dbb2600",
        "trusted": true
      },
      "outputs": [
        {
          "name": "stdout",
          "output_type": "stream",
          "text": [
            "Daily risk‑free rate (per trading day): 7.858494e-05\n"
          ]
        }
      ],
      "source": [
        "# compute daily risk‑free rate from 2% annual T‑Bill\n",
        "annual_rf_rate = 0.02\n",
        "daily_rf_rate = (1 + annual_rf_rate) ** (1 / 252) - 1\n",
        "\n",
        "# create series for subtraction\n",
        "risk_free_daily = pd.Series(daily_rf_rate, index=stock_data.index)\n",
        "\n",
        "print(f\"Daily risk‑free rate (per trading day): {daily_rf_rate:.6e}\")"
      ]
    },
    {
      "cell_type": "markdown",
      "metadata": {
        "id": "O6E3QNH6HwLG"
      },
      "source": [
        "### 1.4 – Daily Return\n",
        "\n",
        "We compute each series’ raw returns by  \n",
        "\n",
        "$$\n",
        "r_t = \\frac{P_t - P_{t-1}}{P_{t-1}},\n",
        "$$\n",
        "\n",
        "then discard the initial missing value to produce a continuous daily return series for our analysis."
      ]
    },
    {
      "cell_type": "code",
      "execution_count": 7,
      "metadata": {
        "colab": {
          "base_uri": "https://localhost:8080/"
        },
        "execution": {
          "iopub.execute_input": "2025-03-08T20:03:45.126664Z",
          "iopub.status.busy": "2025-03-08T20:03:45.126277Z",
          "iopub.status.idle": "2025-03-08T20:03:45.151062Z",
          "shell.execute_reply": "2025-03-08T20:03:45.149915Z",
          "shell.execute_reply.started": "2025-03-08T20:03:45.126632Z"
        },
        "id": "27ezYBt6HwLG",
        "outputId": "0eba1513-6841-4219-9ca0-54f3d42c9a92",
        "trusted": true
      },
      "outputs": [
        {
          "name": "stdout",
          "output_type": "stream",
          "text": [
            "\n",
            "\u001b[1mTable 3\u001b[0m. Stock daily returns (first five rows)\n",
            "+------------+---------+---------+---------+---------+---------+\n",
            "|    Date    |  AAPL   |  AMZN   |  GOOG   |  MSFT   |  TSLA   |\n",
            "+------------+---------+---------+---------+---------+---------+\n",
            "| 2022-01-03 | 0.0250  | 0.0221  | 0.0027  | -0.0047 | 0.1353  |\n",
            "| 2022-01-04 | -0.0127 | -0.0169 | -0.0045 | -0.0171 | -0.0418 |\n",
            "| 2022-01-05 | -0.0266 | -0.0189 | -0.0468 | -0.0384 | -0.0535 |\n",
            "| 2022-01-06 | -0.0167 | -0.0067 | -0.0007 | -0.0079 | -0.0215 |\n",
            "| 2022-01-07 | 0.0010  | -0.0043 | -0.0040 | 0.0005  | -0.0354 |\n",
            "+------------+---------+---------+---------+---------+---------+\n",
            "\n",
            "\u001b[1mTable 4\u001b[0m. S&P 500 daily returns (first five rows)\n",
            "+------------+--------------+\n",
            "|    Date    | SP500 Return |\n",
            "+------------+--------------+\n",
            "| 2022-01-03 |    0.0064    |\n",
            "| 2022-01-04 |   -0.0006    |\n",
            "| 2022-01-05 |   -0.0194    |\n",
            "| 2022-01-06 |   -0.0010    |\n",
            "| 2022-01-07 |   -0.0041    |\n",
            "+------------+--------------+\n"
          ]
        }
      ],
      "source": [
        "# compute daily returns\n",
        "stock_returns = stock_data.pct_change().dropna()\n",
        "sp500_returns = sp500.pct_change().dropna()\n",
        "\n",
        "# first five rows of stock returns\n",
        "print(\"\\n\\033[1mTable 3\\033[0m. Stock daily returns (first five rows)\")\n",
        "rows = [\n",
        "    [date.strftime(\"%Y-%m-%d\")] + [f\"{v:.4f}\" for v in row]\n",
        "    for date, row in stock_returns.head(5).iterrows()\n",
        "]\n",
        "print(tabulate(rows, headers=[\"Date\"] + list(stock_returns.columns), tablefmt=\"pretty\"))\n",
        "\n",
        "# first five rows of S&P 500 returns\n",
        "df_sp_ret = sp500_returns.head(5).reset_index()\n",
        "df_sp_ret.columns = [\"Date\", \"SP500 Return\"]\n",
        "rows = [\n",
        "    [row[\"Date\"].strftime(\"%Y-%m-%d\"), f\"{row['SP500 Return']:.4f}\"]\n",
        "    for _, row in df_sp_ret.iterrows()\n",
        "]\n",
        "print(\"\\n\\033[1mTable 4\\033[0m. S&P 500 daily returns (first five rows)\")\n",
        "print(tabulate(rows, headers=[\"Date\", \"SP500 Return\"], tablefmt=\"pretty\"))"
      ]
    },
    {
      "cell_type": "markdown",
      "metadata": {
        "id": "8D2GI8mEHwLG"
      },
      "source": [
        "### 1.5 – Excess Return Calculation\n",
        "\n",
        "We subtract the constant daily risk‑free rate from each return series and drop any resulting NaNs, yielding stock and S&P 500 returns in excess of the risk‑free rate (first five rows shown in Tables 5 and 6)."
      ]
    },
    {
      "cell_type": "code",
      "execution_count": 8,
      "metadata": {
        "colab": {
          "base_uri": "https://localhost:8080/"
        },
        "execution": {
          "iopub.execute_input": "2025-03-08T20:04:25.300679Z",
          "iopub.status.busy": "2025-03-08T20:04:25.300267Z",
          "iopub.status.idle": "2025-03-08T20:04:25.321118Z",
          "shell.execute_reply": "2025-03-08T20:04:25.320012Z",
          "shell.execute_reply.started": "2025-03-08T20:04:25.300648Z"
        },
        "id": "m3cwnJHJHwLH",
        "outputId": "5b91878a-456e-454d-b61e-91ddfafbda73",
        "trusted": true
      },
      "outputs": [
        {
          "name": "stdout",
          "output_type": "stream",
          "text": [
            "\n",
            "\u001b[1mTable 5\u001b[0m. Excess stock returns (first five rows)\n",
            "+------------+---------+---------+---------+---------+---------+\n",
            "|    Date    |  AAPL   |  AMZN   |  GOOG   |  MSFT   |  TSLA   |\n",
            "+------------+---------+---------+---------+---------+---------+\n",
            "| 2022-01-03 | 0.0249  | 0.0220  | 0.0027  | -0.0047 | 0.1352  |\n",
            "| 2022-01-04 | -0.0128 | -0.0170 | -0.0046 | -0.0172 | -0.0419 |\n",
            "| 2022-01-05 | -0.0267 | -0.0190 | -0.0469 | -0.0385 | -0.0535 |\n",
            "| 2022-01-06 | -0.0168 | -0.0068 | -0.0008 | -0.0080 | -0.0216 |\n",
            "| 2022-01-07 | 0.0009  | -0.0044 | -0.0041 | 0.0004  | -0.0355 |\n",
            "+------------+---------+---------+---------+---------+---------+\n",
            "\n",
            "\u001b[1mTable 6\u001b[0m. Excess S&P 500 returns (first five rows)\n",
            "+------------+---------------------+\n",
            "|    Date    | Excess SP500 Return |\n",
            "+------------+---------------------+\n",
            "| 2022-01-03 |       0.0063        |\n",
            "| 2022-01-04 |       -0.0007       |\n",
            "| 2022-01-05 |       -0.0195       |\n",
            "| 2022-01-06 |       -0.0010       |\n",
            "| 2022-01-07 |       -0.0041       |\n",
            "+------------+---------------------+\n"
          ]
        }
      ],
      "source": [
        "# compute excess returns\n",
        "excess_stock_returns = stock_returns.sub(risk_free_daily, axis=0).dropna()\n",
        "excess_sp500_returns = sp500_returns.sub(risk_free_daily, axis=0).dropna()\n",
        "\n",
        "# first five rows of excess stock returns\n",
        "print(\"\\n\\033[1mTable 5\\033[0m. Excess stock returns (first five rows)\")\n",
        "rows = [\n",
        "    [date.strftime(\"%Y-%m-%d\")] + [f\"{v:.4f}\" for v in row]\n",
        "    for date, row in excess_stock_returns.head(5).iterrows()\n",
        "]\n",
        "print(\n",
        "    tabulate(\n",
        "        rows, headers=[\"Date\"] + list(excess_stock_returns.columns), tablefmt=\"pretty\"\n",
        "    )\n",
        ")\n",
        "\n",
        "# first five rows of excess S&P 500 returns\n",
        "print(\"\\n\\033[1mTable 6\\033[0m. Excess S&P 500 returns (first five rows)\")\n",
        "df_ex_sp = excess_sp500_returns.head(5).reset_index()\n",
        "df_ex_sp.columns = [\"Date\", \"Excess SP500 Return\"]\n",
        "rows = [\n",
        "    [row[\"Date\"].strftime(\"%Y-%m-%d\"), f\"{row['Excess SP500 Return']:.4f}\"]\n",
        "    for _, row in df_ex_sp.iterrows()\n",
        "]\n",
        "print(tabulate(rows, headers=[\"Date\", \"Excess SP500 Return\"], tablefmt=\"pretty\"))"
      ]
    },
    {
      "cell_type": "markdown",
      "metadata": {
        "id": "Tru3gH47HwLH"
      },
      "source": [
        "## Section 2 - Data Analysis\n",
        "###  Modern Portfolio Theory\n",
        "\n",
        "#### Some Equations\n",
        "\n",
        "Let us write some equations (which apply in this form—with the risk-free return already subtracted off). Let $ C $ denote the covariance of the returns of the risky stocks (not the S&P 500), $ \\mathbf{m} $ the vector of their expected (excess) returns. Given a portfolio weight vector $ \\mathbf{w} $ (satisfying $\\sum w_k = 1$), the expected (excess) return and standard deviation for $ \\mathbf{w} $ is:\n",
        "\n",
        "$$\n",
        "\\mu(\\mathbf{w}) = \\mathbf{m}^T\\mathbf{w} \\\\\n",
        "\\sigma(\\mathbf{w}) = \\sqrt{\\mathbf{w}^T C \\mathbf{w}}\n",
        "$$\n",
        "\n",
        "Also let $ \\mathbf{1} $ denote the vector of all ones, as usual.  \n",
        "The weight vectors for the MVP and MP are:\n",
        "\n",
        "$$\n",
        "\\mathbf{w}_{MVP} = \\frac{1}{\\mathbf{1}^T C^{-1}\\mathbf{1}} C^{-1}\\mathbf{1} \\\\\n",
        "\\mathbf{w}_{MP} = \\frac{1}{\\mathbf{1}^T C^{-1}\\mathbf{m}} C^{-1}\\mathbf{m}\n",
        "$$\n",
        "\n",
        "From these you can compute the $\\mu, \\sigma$.\n",
        "\n",
        "If you have two portfolios (of the risky stocks only) with weight vectors $ \\mathbf{w}_1, \\mathbf{w}_2 $, the corresponding returns $ r_1, r_2 $ have covariance given by:\n",
        "\n",
        "$$\n",
        "cov(r_1, r_2) = \\mathbf{w}_1^T C \\mathbf{w}_2\n",
        "$$\n",
        "\n",
        "Otherwise, if you have the actual set of returns over a period of time, you can compute the covariance directly from the data. For example, you can do this to compute the covariance between one of your stocks and the S&P 500. If you store the covariances between each stock and the S&P 500 in a vector $ \\mathbf{q} $, then the covariance between a portfolio $ \\mathbf{w} $ of the stocks and the S&P 500 would be:\n",
        "\n",
        "$$\n",
        "cov(r_{\\mathbf{w}}, r_{S\\&P500}) = \\mathbf{q}^T\\mathbf{w}\n",
        "$$\n",
        "\n",
        "\n",
        "\n",
        "1. Using the data for the full year, we want to get the vector of expected returns and covariance matrix of the returns of the **M = 5** stocks, and the covariance between each stock and the S&P 500. Compute $ \\mathbf{w}_{MVP}, (\\sigma_{MVP}, \\mu_{MVP}) $ and $ \\mathbf{w}_{MP}, (\\sigma_{MP}, \\mu_{MP}) $ for the minimum variance and market portfolios, respectively. We will also need code that, given a weight vector for a portfolio from the stocks $ \\mathbf{w} $, we can compute the $ (\\sigma,\\mu) $ point; also that we can compute the covariance between two such portfolios; we also want the vector $ \\mathbf{q} $ of covariances with the S&P 500, and the ability to compute the covariance of a portfolio given by $ \\mathbf{w} $ with the S&P 500.\n",
        "\n",
        "2. Look at the MVP and MP weight vectors. Do they involve short-selling?\n",
        "\n",
        "3. Compute the Sharpe ratio and $ \\beta $ for each of the **M = 5** stocks, the S&P 500, and the MVP. Compute the covariance between the individual stocks, and the MVP and MP portfolios with the S&P 500. Display these results in a reasonable form, such as a table. Also provide a quick summary of which of these are positively or negatively correlated with the S&P 500.\n",
        "\n",
        "4. Generate **N = 100** random $ \\mathbf{w} $ vectors with **no short selling**; they have to satisfy the constraint that $\\sum_{k=1}^{M} w_k = 1$. To do this I suggest: (1) generate $ M $ independent numbers uniformly from 0 to 1, say $(x_1, x_2, \\dots, x_5)$, and then (2) set $ w_k = x_k / (\\sum x_k) $, i.e., normalize them to sum to 1. I suggest you store these vectors in an array (dataframe) as you will be using them again later!\n",
        "\n",
        "5. Compute the $ (\\sigma, \\mu) $ point for each of these vectors, and create a scatter plot of these $ (\\sigma, \\mu) $, also put in $ (\\sigma_{MVP}, \\mu_{MVP}) $, and $ (\\sigma_{MP}, \\mu_{MP}) $ and also compute and plot $ (\\sigma_{SP}, \\mu_{SP}) $ for the S&P 500. Also draw the CAL on your graph (remember, the \"risk-free\" point is now (0,0)).\n",
        "\n",
        "6. Find the median of the expected returns of those 100 portfolios that involve no short-selling, say $ \\mu_{med} $. Find the \"best\" portfolio (among those you created) whose return satisfies $ \\mu \\geq \\mu_{med} $, i.e., among all such, the $ \\sigma $ is minimum. Highlight that portfolio. We can consider that portfolio as an approximate solution to an optimization problem (find the portfolio with the no short selling constraint and achieves at least a prescribed expected return that minimizes risk *as measured by standard deviation*). For that optimal portfolio, compute its Sharpe ratio and $ \\beta $.\n"
      ]
    },
    {
      "cell_type": "markdown",
      "metadata": {
        "id": "2BzvMwmKHwLI"
      },
      "source": [
        "### 2.1 – Mean–Variance Portfolio Construction\n",
        "\n",
        "We estimate the sample mean vector $\\mu$ and covariance matrix $C$ of our five stocks, and the covariance vector $q$ between each stock and the S&P 500.  Closed‐form mean–variance theory then yields\n",
        "\n",
        "$$\n",
        "w_{\\mathrm{MVP}} = \\frac{C^{-1}\\mathbf{1}}{\\mathbf{1}^\\top C^{-1}\\mathbf{1}},\n",
        "\\qquad\n",
        "w_{\\mathrm{MP}}  = \\frac{C^{-1}\\mu}{\\mathbf{1}^\\top C^{-1}\\mu}.\n",
        "$$\n",
        "\n",
        "We implement three small helpers—`portfolio_stats`, `covariance`, and `beta`—to compute each portfolio’s $\\mu,\\;\\sigma$, inter‑portfolio covariance, and market beta."
      ]
    },
    {
      "cell_type": "code",
      "execution_count": 19,
      "metadata": {
        "colab": {
          "base_uri": "https://localhost:8080/"
        },
        "execution": {
          "iopub.execute_input": "2025-03-08T20:10:21.344318Z",
          "iopub.status.busy": "2025-03-08T20:10:21.343814Z",
          "iopub.status.idle": "2025-03-08T20:10:21.506210Z",
          "shell.execute_reply": "2025-03-08T20:10:21.504703Z",
          "shell.execute_reply.started": "2025-03-08T20:10:21.344270Z"
        },
        "id": "GysgG_87HwLI",
        "outputId": "00e77164-4559-4d71-9680-384884f9aa84",
        "trusted": true
      },
      "outputs": [
        {
          "name": "stdout",
          "output_type": "stream",
          "text": [
            "\n",
            "\u001b[1mTable 7\u001b[0m. Portfolio Weights and Performance Metrics\n",
            "\n",
            "+-----------+---------+---------+--------+---------+---------+---------+--------+\n",
            "| Portfolio |  AAPL   |  AMZN   |  GOOG  |  MSFT   |  TSLA   |    μ    |   σ    |\n",
            "+-----------+---------+---------+--------+---------+---------+---------+--------+\n",
            "|    MVP    | 0.5442  | -0.0999 | 0.1044 | 0.5296  | -0.0783 | -0.0009 | 0.021  |\n",
            "|    MP     | -1.4149 |  0.723  | 1.6975 | -0.8604 | 0.8547  | -0.005  | 0.0508 |\n",
            "+-----------+---------+---------+--------+---------+---------+---------+--------+\n"
          ]
        }
      ],
      "source": [
        "# compute expected returns and covariance matrix\n",
        "mu_vec = excess_stock_returns.mean()\n",
        "C_df = excess_stock_returns.cov()\n",
        "C = C_df.values\n",
        "\n",
        "# extract S&P 500 series and its variance\n",
        "sp = sp500_returns.squeeze()\n",
        "var_sp = float(sp.var(ddof=1))\n",
        "\n",
        "# covariance vector between stocks and S&P 500\n",
        "q_df = pd.concat([excess_stock_returns, sp.rename(\"SP500\")], axis=1).cov()\n",
        "q = q_df.loc[excess_stock_returns.columns, \"SP500\"].values\n",
        "\n",
        "\n",
        "# helpers for portfolio statistics\n",
        "def portfolio_stats(w, mu, cov):\n",
        "    return float(mu.values @ w), float(np.sqrt(w @ cov @ w))\n",
        "\n",
        "\n",
        "def beta(w, q_vec, var_sp):\n",
        "    return float((q_vec @ w) / var_sp)\n",
        "\n",
        "\n",
        "# invert covariance and create ones vector\n",
        "C_inv = np.linalg.inv(C)\n",
        "ones = np.ones(len(mu_vec))\n",
        "\n",
        "# minimum‑variance portfolio\n",
        "w_MVP = C_inv @ ones\n",
        "w_MVP /= ones @ w_MVP\n",
        "mu_MVP, sigma_MVP = portfolio_stats(w_MVP, mu_vec, C)\n",
        "\n",
        "# market (tangency) portfolio\n",
        "w_MP = C_inv @ mu_vec.values\n",
        "w_MP /= ones @ w_MP\n",
        "mu_MP, sigma_MP = portfolio_stats(w_MP, mu_vec, C)\n",
        "\n",
        "# display results\n",
        "table = [\n",
        "    [\"MVP\", *np.round(w_MVP, 4), round(mu_MVP, 4), round(sigma_MVP, 4)],\n",
        "    [\"MP\", *np.round(w_MP, 4), round(mu_MP, 4), round(sigma_MP, 4)],\n",
        "]\n",
        "print(\"\\n\\033[1mTable 7\\033[0m. Portfolio Weights and Performance Metrics\\n\")\n",
        "print(\n",
        "    tabulate(\n",
        "        table,\n",
        "        headers=[\"Portfolio\", *excess_stock_returns.columns, \"μ\", \"σ\"],\n",
        "        tablefmt=\"pretty\",\n",
        "    )\n",
        ")"
      ]
    },
    {
      "cell_type": "markdown",
      "metadata": {
        "id": "uo7Av2WlHwLI"
      },
      "source": [
        "### 2.2 – Short‑Selling Check\n",
        "\n",
        "We flag any negative weights in the MVP and MP portfolios—indicating short positions—and list the affected tickers in Table 8."
      ]
    },
    {
      "cell_type": "code",
      "execution_count": 21,
      "metadata": {
        "colab": {
          "base_uri": "https://localhost:8080/"
        },
        "id": "Jh_dNqiaHwLJ",
        "outputId": "420de428-dd62-47b6-b86a-9df36461b6aa",
        "trusted": true
      },
      "outputs": [
        {
          "name": "stdout",
          "output_type": "stream",
          "text": [
            "\n",
            "\u001b[1mTable 8\u001b[0m. Short Positions in MVP and MP Portfolios\n",
            "\n",
            "+-----------+-----------------+\n",
            "| Portfolio | Short Positions |\n",
            "+-----------+-----------------+\n",
            "|    MVP    |   AMZN, TSLA    |\n",
            "|    MP     |   AAPL, MSFT    |\n",
            "+-----------+-----------------+\n"
          ]
        }
      ],
      "source": [
        "# identify short positions in MVP and MP\n",
        "results = []\n",
        "for label, w in [(\"MVP\", w_MVP), (\"MP\", w_MP)]:\n",
        "    shorts = [t for t, weight in zip(excess_stock_returns.columns, w) if weight < 0]\n",
        "    results.append([label, \", \".join(shorts) if shorts else \"—\"])\n",
        "\n",
        "print(\"\\n\\033[1mTable 8\\033[0m. Short Positions in MVP and MP Portfolios\\n\")\n",
        "print(tabulate(results, headers=[\"Portfolio\", \"Short Positions\"], tablefmt=\"pretty\"))"
      ]
    },
    {
      "cell_type": "markdown",
      "metadata": {
        "id": "h0qrO73yHwLJ"
      },
      "source": [
        "### 2.3 – Performance Metrics Computation\n",
        "\n",
        "We calculate for each stock, the S&P 500, and the MVP & MP portfolios:\n",
        "\n",
        "- **Sharpe** = mean / std  \n",
        "- **Beta** = Cov(asset, SP) / Var(SP)  \n",
        "- **Cov w/SP500**"
      ]
    },
    {
      "cell_type": "code",
      "execution_count": 22,
      "metadata": {
        "colab": {
          "base_uri": "https://localhost:8080/"
        },
        "execution": {
          "iopub.execute_input": "2025-03-08T20:12:20.201675Z",
          "iopub.status.busy": "2025-03-08T20:12:20.201263Z",
          "iopub.status.idle": "2025-03-08T20:12:20.226477Z",
          "shell.execute_reply": "2025-03-08T20:12:20.224956Z",
          "shell.execute_reply.started": "2025-03-08T20:12:20.201642Z"
        },
        "id": "RowH_Qg9HwLJ",
        "outputId": "12284582-23e2-45fe-9747-a444741b6bd2",
        "trusted": true
      },
      "outputs": [
        {
          "name": "stdout",
          "output_type": "stream",
          "text": [
            "\n",
            "\u001b[1mTable 9\u001b[0m. Sharpe, Beta, and Covariance with S&P 500\n",
            "\n",
            "+-------+---------+--------+-------------+\n",
            "| Asset | Sharpe  |  Beta  | Cov w/SP500 |\n",
            "+-------+---------+--------+-------------+\n",
            "| AAPL  | -0.0466 | 1.3079 |   0.0003    |\n",
            "| AMZN  | -0.0732 | 1.6403 |   0.0004    |\n",
            "| GOOG  | -0.0707 | 1.3383 |   0.0003    |\n",
            "| MSFT  | -0.0513 | 1.2829 |   0.0003    |\n",
            "| TSLA  | -0.0803 | 1.7521 |   0.0004    |\n",
            "| SP500 | -0.049  |  1.0   |   0.0002    |\n",
            "|  MVP  | -0.0409 | 1.2298 |   0.0003    |\n",
            "|  MP   | -0.0989 | 2.001  |   0.0005    |\n",
            "+-------+---------+--------+-------------+\n",
            "\n",
            "Positively correlated with S&P 500: ['AAPL', 'AMZN', 'GOOG', 'MSFT', 'TSLA', 'MVP', 'MP']\n",
            "Negatively correlated with S&P 500: []\n"
          ]
        }
      ],
      "source": [
        "# build table rows\n",
        "rows = []\n",
        "for name, series in {\n",
        "    **{t: excess_stock_returns[t] for t in excess_stock_returns.columns},\n",
        "    \"SP500\": sp,\n",
        "}.items():\n",
        "    mean = float(series.mean())\n",
        "    std = float(series.std(ddof=1))\n",
        "    cov = float(series.cov(sp))\n",
        "    beta_ = cov / var_sp if name != \"SP500\" else 1.0\n",
        "    sharpe = mean / std\n",
        "    rows.append([name, round(sharpe, 4), round(beta_, 4), round(cov, 4)])\n",
        "\n",
        "# add MVP and MP\n",
        "for label, w in [(\"MVP\", w_MVP), (\"MP\", w_MP)]:\n",
        "    cov_wp = float(q @ w)\n",
        "    rows.append(\n",
        "        [\n",
        "            label,\n",
        "            (\n",
        "                round(mu_MP / sigma_MP, 4)\n",
        "                if label == \"MP\"\n",
        "                else round(mu_MVP / sigma_MVP, 4)\n",
        "            ),\n",
        "            round(cov_wp / var_sp, 4),\n",
        "            round(cov_wp, 4),\n",
        "        ]\n",
        "    )\n",
        "\n",
        "print(\"\\n\\033[1mTable 9\\033[0m. Sharpe, Beta, and Covariance with S&P 500\\n\")\n",
        "print(\n",
        "    tabulate(\n",
        "        rows, headers=[\"Asset\", \"Sharpe\", \"Beta\", \"Cov w/SP500\"], tablefmt=\"pretty\"\n",
        "    )\n",
        ")\n",
        "\n",
        "# correlation sign summary\n",
        "signs = {\n",
        "    r[0]: (\"positive\" if r[3] > 0 else \"negative\") for r in rows if r[0] != \"SP500\"\n",
        "}\n",
        "print(\n",
        "    \"\\nPositively correlated with S&P 500:\",\n",
        "    [a for a, s in signs.items() if s == \"positive\"],\n",
        ")\n",
        "print(\n",
        "    \"Negatively correlated with S&P 500:\",\n",
        "    [a for a, s in signs.items() if s == \"negative\"],\n",
        ")"
      ]
    },
    {
      "cell_type": "markdown",
      "metadata": {
        "id": "skWPp85yHwLJ"
      },
      "source": [
        "### 2.4 – Sampling Random No‑Short‑Sale Portfolios\n",
        "\n",
        "We draw $M=5$ independent Uniform$[0,1]$ samples and normalize each vector to sum to 1, ensuring $w_k\\ge0$ and $\\sum_k w_k=1$.  Repeating this $N=100$ times yields a diverse set of feasible portfolios.  Table 10 shows the first five weight vectors.\n",
        "\n"
      ]
    },
    {
      "cell_type": "code",
      "execution_count": 23,
      "metadata": {
        "colab": {
          "base_uri": "https://localhost:8080/"
        },
        "id": "6iDxF17hHwLK",
        "outputId": "f7b4af12-4316-434b-9c83-23b846a01d8e",
        "trusted": true
      },
      "outputs": [
        {
          "name": "stdout",
          "output_type": "stream",
          "text": [
            "\n",
            "\u001b[1mTable 10\u001b[0m. Random No‑Short‑Selling Portfolios (first five)\n",
            "\n",
            "+---+------+------+------+------+------+\n",
            "|   | AAPL | AMZN | GOOG | MSFT | TSLA |\n",
            "+---+------+------+------+------+------+\n",
            "| 0 | 0.13 | 0.34 | 0.26 | 0.21 | 0.06 |\n",
            "| 1 | 0.07 | 0.02 | 0.36 | 0.25 | 0.3  |\n",
            "| 2 | 0.01 | 0.44 | 0.38 | 0.1  | 0.08 |\n",
            "| 3 | 0.11 | 0.18 | 0.3  | 0.25 | 0.17 |\n",
            "| 4 | 0.33 | 0.07 | 0.16 | 0.2  | 0.24 |\n",
            "+---+------+------+------+------+------+\n"
          ]
        }
      ],
      "source": [
        "# generate 100 random no‑short portfolios\n",
        "np.random.seed(42)\n",
        "N, M = 100, len(excess_stock_returns.columns)\n",
        "X = np.random.rand(N, M)\n",
        "W = X / X.sum(axis=1, keepdims=True)\n",
        "\n",
        "random_weights_df = pd.DataFrame(W, columns=excess_stock_returns.columns)\n",
        "\n",
        "print(\"\\n\\033[1mTable 10\\033[0m. Random No‑Short‑Selling Portfolios (first five)\\n\")\n",
        "print(tabulate(random_weights_df.round(2).head(), headers=\"keys\", tablefmt=\"pretty\"))"
      ]
    },
    {
      "cell_type": "markdown",
      "metadata": {
        "id": "gx00GKdvHwLK"
      },
      "source": [
        "### 2.5 – Risk–Return Frontier and CAL\n",
        "\n",
        "Compute $(\\sigma_i,\\mu_i)$ for each random $w$, plot them alongside MVP, MP, and S&P 500, and draw the CAL through $(0,0)$ and $(\\sigma_{MP},\\mu_{MP})$.\n"
      ]
    },
    {
      "cell_type": "code",
      "execution_count": 25,
      "metadata": {
        "colab": {
          "base_uri": "https://localhost:8080/",
          "height": 554
        },
        "id": "v5mM-ZcdHwLK",
        "outputId": "97ce7203-328e-4357-cae3-c59336f17671",
        "trusted": true
      },
      "outputs": [
        {
          "name": "stdout",
          "output_type": "stream",
          "text": [
            "\n",
            "\u001b[1mFigure 1\u001b[0m. Risk–return scatter of random portfolios, MVP, MP, S&P 500, and CAL\n",
            "\n"
          ]
        },
        {
          "data": {
            "image/png": "[encoded data removed]",
            "text/plain": [
              "<Figure size 800x500 with 1 Axes>"
            ]
          },
          "metadata": {},
          "output_type": "display_data"
        }
      ],
      "source": [
        "# risk–return for random portfolios\n",
        "W = random_weights_df.values\n",
        "mu_rand = W.dot(mu_vec.values)\n",
        "sigma_rand = np.array([np.sqrt(w @ C @ w) for w in W])\n",
        "\n",
        "# ensure S&P 500 μ and σ are defined\n",
        "mu_sp = float(sp.mean())\n",
        "sigma_sp = float(sp.std(ddof=1))\n",
        "\n",
        "print(\n",
        "    \"\\n\\033[1mFigure 1\\033[0m. Risk–return scatter of random portfolios, MVP, MP, S&P 500, and CAL\\n\"\n",
        ")\n",
        "\n",
        "plt.figure(figsize=(8, 5))\n",
        "plt.scatter(sigma_rand, mu_rand, alpha=0.5, label=\"Random Portfolios\")\n",
        "plt.scatter(sigma_MVP, mu_MVP, s=80, marker=\"D\", label=\"MVP\")\n",
        "plt.scatter(sigma_MP, mu_MP, s=80, marker=\"D\", label=\"MP\")\n",
        "plt.scatter(sigma_sp, mu_sp, s=80, marker=\"D\", label=\"S&P 500\")\n",
        "plt.plot([0, sigma_MP], [0, mu_MP], \"--\", label=\"CAL\")\n",
        "plt.xlabel(\"σ (Std. Dev.)\")\n",
        "plt.ylabel(\"μ (Expected Return)\")\n",
        "plt.title(\"Random Portfolios vs. Efficient Frontier\")\n",
        "plt.legend()\n",
        "plt.grid(True)\n",
        "plt.show()"
      ]
    },
    {
      "cell_type": "markdown",
      "metadata": {
        "id": "RLNQsFddHwLL"
      },
      "source": [
        "### 2.6 – Constrained Minimum‑Risk Portfolio Above Median Return\n",
        "\n",
        "From the 100 no‑short portfolios, we select those with $\\mu\\ge\\mathrm{median}(\\mu)$ and pick the one with the lowest $\\sigma$.  Table 11 then reports its weights, $\\mu$, $\\sigma$, Sharpe ratio, and $\\beta$.\n"
      ]
    },
    {
      "cell_type": "code",
      "execution_count": 31,
      "metadata": {
        "colab": {
          "base_uri": "https://localhost:8080/"
        },
        "id": "E7LovqefHwLL",
        "outputId": "e5209ad5-3981-448d-ff88-9bb356e1d520",
        "trusted": true
      },
      "outputs": [
        {
          "name": "stdout",
          "output_type": "stream",
          "text": [
            "\n",
            "\u001b[1mTable 11\u001b[0m. Best No‑Short Portfolio with μ ≥ median(μ)\n",
            "\n",
            "+--------+--------+--------+--------+--------+---------+-------+---------+-----------------+\n",
            "|  AAPL  |  AMZN  |  GOOG  |  MSFT  |  TSLA  |    μ    |   σ   | Sharpe  |        β        |\n",
            "+--------+--------+--------+--------+--------+---------+-------+---------+-----------------+\n",
            "| 0.2941 | 0.0305 | 0.3449 | 0.2963 | 0.0341 | -0.0014 | 0.022 | -0.0651 |     Ticker      |\n",
            "|        |        |        |        |        |         |       |         | ^GSPC    1.3363 |\n",
            "|        |        |        |        |        |         |       |         | dtype: float64  |\n",
            "+--------+--------+--------+--------+--------+---------+-------+---------+-----------------+\n"
          ]
        },
        {
          "name": "stderr",
          "output_type": "stream",
          "text": [
            "/usr/local/lib/python3.11/dist-packages/tabulate/__init__.py:827: FutureWarning: Calling float on a single element Series is deprecated and will raise a TypeError in the future. Use float(ser.iloc[0]) instead\n",
            "  conv(string)\n"
          ]
        }
      ],
      "source": [
        "# find best no‑short portfolio with μ ≥ median(μ) and minimal σ\n",
        "var_sp500 = excess_sp500_returns.var(ddof=1)\n",
        "mu_med = np.median(mu_rand)\n",
        "mask = mu_rand >= mu_med\n",
        "idxs = np.where(mask)[0]\n",
        "best_idx = idxs[np.argmin(sigma_rand[mask])]\n",
        "\n",
        "w_best = W[best_idx]\n",
        "mu_best = mu_rand[best_idx]\n",
        "sigma_best = sigma_rand[best_idx]\n",
        "sharpe_best = mu_best / sigma_best\n",
        "cov_best = float(q @ w_best)\n",
        "beta_best = cov_best / var_sp500\n",
        "\n",
        "print(\"\\n\\033[1mTable 11\\033[0m. Best No‑Short Portfolio with μ ≥ median(μ)\\n\")\n",
        "print(\n",
        "    tabulate(\n",
        "        [\n",
        "            [\n",
        "                *np.round(w_best, 4),\n",
        "                round(mu_best, 4),\n",
        "                round(sigma_best, 4),\n",
        "                round(sharpe_best, 4),\n",
        "                round(beta_best, 4),\n",
        "            ]\n",
        "        ],\n",
        "        headers=[*excess_stock_returns.columns, \"μ\", \"σ\", \"Sharpe\", \"β\"],\n",
        "        tablefmt=\"pretty\",\n",
        "    )\n",
        ")"
      ]
    },
    {
      "cell_type": "markdown",
      "metadata": {
        "id": "bbitOshPHwLL"
      },
      "source": [
        "## Section 3 - V@R and CV@R\n",
        "\n",
        "1. Use the same dataset you collected for the previous problem. Consider the returns over one year for each of your stocks, plus S&P 500.\n",
        "\n",
        "  (a) Construct histograms for the returns with 50 bins, and plot them, for each of your stocks.\n",
        "\n",
        "  (b) Compute the V@R$_{1-\\alpha}$ and CV@R$_{1-\\alpha}$ for $\\alpha = 5\\%$ and $10\\%$, directly from the daily returns over the year, for each stock separately. **Note:** In practice, 5% and 1% are more common, but given the limited number of data points available, we are not likely to obtain reasonable results for 1%.\n",
        "\n",
        "2. Again, we are using the same dataset.\n",
        "\n",
        "  (a) Given the set of daily returns for the five stocks over one year, and a weight vector $ \\mathbf{w} $ for a portfolio, write code to compute the V@R and CV@R for prescribed $\\alpha$.\n",
        "\n",
        "  (b) Compute the V@R$_{1-\\alpha}$ and CV@R$_{1-\\alpha}$ for the MVP, MP, and S&P 500.\n",
        "\n",
        "  (c) Use the **SAME** set of 100 random weight vectors with no short selling as you used from the MPT section of this assignment. You already have the expected returns. Now compute the CV@R$_{1-\\alpha}$ for $\\alpha = 10\\%$ and $\\alpha = 5\\%$ for each of them.\n",
        "\n",
        "  (d) Obtain a scatter plot with axes $(CV@R_{1-\\alpha}, \\mu)$ for your 100 weight vectors, plus the MVP, MP, S&P 500, and each of your individual stocks, for $\\alpha = 10\\%$. Obtain a separate scatter plot for $\\alpha = 5\\%$.\n",
        "\n",
        "\n",
        "  (f) You now have three (estimated) \"optimal\" portfolios obtained under 3 different risk measures: standard deviation, and CV@R at two levels. Summarize in a table for these 3 the following: the expected return, Sharpe ratio, $\\beta$, standard deviation, and both CV@R values."
      ]
    },
    {
      "cell_type": "markdown",
      "metadata": {
        "id": "7O4uj7wIWtPx"
      },
      "source": [
        "### 3.1 - Histograms of Daily Excess Returns\n",
        "\n",
        "We plot each stock’s distribution of daily excess returns over the year using 50‑bin histograms arranged in a 3×2 grid.\n"
      ]
    },
    {
      "cell_type": "code",
      "execution_count": 28,
      "metadata": {
        "colab": {
          "base_uri": "https://localhost:8080/",
          "height": 1000
        },
        "id": "DyaxsDrXHwLM",
        "outputId": "cb0dcc62-562f-418a-a5a2-bb18ca13a0ce",
        "trusted": true
      },
      "outputs": [
        {
          "data": {
            "image/png": "[encoded data removed]",
            "text/plain": [
              "<Figure size 1200x1000 with 6 Axes>"
            ]
          },
          "metadata": {},
          "output_type": "display_data"
        }
      ],
      "source": [
        "# set up a 3×2 grid for five histograms\n",
        "tickers = excess_stock_returns.columns\n",
        "fig, axes = plt.subplots(3, 2, figsize=(12, 10))\n",
        "axes = axes.flatten()\n",
        "\n",
        "# plot a 50‑bin histogram for each stock’s daily excess returns in blue\n",
        "for ax, t in zip(axes, tickers):\n",
        "    ax.hist(excess_stock_returns[t], bins=50, color=\"#0000FF\", edgecolor=\"k\", alpha=0.7)\n",
        "    ax.set(title=f\"{t} Daily Excess Returns\", xlabel=\"Return\", ylabel=\"Frequency\")\n",
        "\n",
        "# hide the unused subplot\n",
        "for ax in axes[len(tickers) :]:\n",
        "    ax.axis(\"off\")\n",
        "\n",
        "plt.suptitle(\"Daily Excess Return Distributions (50 bins)\", y=1.02)\n",
        "plt.tight_layout()\n",
        "plt.show()"
      ]
    },
    {
      "cell_type": "markdown",
      "metadata": {
        "id": "DJIjVIktHwLM"
      },
      "source": [
        "## Section 4 - Comment\n",
        "\n",
        "You obtained three scatter plots corresponding to three criteria for optimization. The \"upper bound\" on your scatter plots represent, essentially, \"efficient frontiers\" with respect to these risk measures (i.e., for a given return, the risk measure is minimized). Recall that for the standard deviation, this \"upper bound\" is a hyperbola, and specifically is a concave curve. Do your results appear to be concave in each of the other cases?\n",
        "\n",
        "Here, I asked you to create 100 random portfolios. You may want to try more, if your computer can handle it. If you work with 1000, do your scatter plots and final \"optimal\" choices change considerably?\n",
        "\n",
        "One more comment: in many cases, the V@R and CV@R are computed using the formulas that apply for the case of a Gaussian model. This may be useful in achieving a more systematic approach to solving the optimization problem, rather than the crude \"random search\" given here, but again presumes the Gaussian model is accurate."
      ]
    }
  ],
  "metadata": {
    "colab": {
      "provenance": [],
      "toc_visible": true
    },
    "kaggle": {
      "accelerator": "none",
      "dataSources": [],
      "dockerImageVersionId": 30918,
      "isGpuEnabled": false,
      "isInternetEnabled": true,
      "language": "python",
      "sourceType": "notebook"
    },
    "kernelspec": {
      "display_name": "Python 3",
      "language": "python",
      "name": "python3"
    },
    "language_info": {
      "codemirror_mode": {
        "name": "ipython",
        "version": 3
      },
      "file_extension": ".py",
      "mimetype": "text/x-python",
      "name": "python",
      "nbconvert_exporter": "python",
      "pygments_lexer": "ipython3",
      "version": "3.10.12"
    }
  },
  "nbformat": 4,
  "nbformat_minor": 0
}
